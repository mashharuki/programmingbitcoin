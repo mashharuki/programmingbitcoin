{
 "cells": [
  {
   "cell_type": "code",
   "execution_count": 1,
   "metadata": {},
   "outputs": [],
   "source": [
    "# 必要なライブラリをインポートする。\n",
    "from importlib import reload\n",
    "from helper import run\n",
    "import ecc\n",
    "import helper\n",
    "\n",
    "from ecc import FieldElement, Point"
   ]
  },
  {
   "cell_type": "markdown",
   "metadata": {},
   "source": [
    "### 練習問題 1\n",
    "\n",
    "Evaluate whether these points are on the curve \\\\(y^{2}\\\\)=\\\\(x^{3}\\\\)+7 over \\\\(F_{223}\\\\)\n",
    "\n",
    "(192,105), (17,56), (200,119), (1,193), (42,99)"
   ]
  },
  {
   "cell_type": "code",
   "execution_count": 5,
   "metadata": {},
   "outputs": [
    {
     "name": "stdout",
     "output_type": "stream",
     "text": [
      "True\n",
      "True\n",
      "False\n",
      "True\n",
      "False\n"
     ]
    }
   ],
   "source": [
    "# 練習問題 1\n",
    "\n",
    "prime = 223\n",
    "a = FieldElement(0, prime)\n",
    "b = FieldElement(7, prime)\n",
    "\n",
    "# 楕円曲線上に存在するかチェックするための関数\n",
    "def checkCurve(x, y):\n",
    "    if ( y**2 == (x**3 + a * x + b) ):\n",
    "        return True\n",
    "    else:\n",
    "        return False\n",
    "\n",
    "# (192,105), (17,56), (200,119), (1,193), (42,99)が楕円曲線常に存在するかチェックする。\n",
    "print(checkCurve(FieldElement(192, prime), FieldElement(105, prime)))\n",
    "print(checkCurve(FieldElement(17, prime), FieldElement(56, prime)))\n",
    "print(checkCurve(FieldElement(200, prime), FieldElement(119, prime)))\n",
    "print(checkCurve(FieldElement(1, prime), FieldElement(193, prime)))\n",
    "print(checkCurve(FieldElement(42, prime), FieldElement(99, prime)))"
   ]
  },
  {
   "cell_type": "code",
   "execution_count": 6,
   "metadata": {},
   "outputs": [
    {
     "name": "stdout",
     "output_type": "stream",
     "text": [
      "Point(192,105)_0_7 FieldElement(223)\n"
     ]
    }
   ],
   "source": [
    "from ecc import FieldElement, Point\n",
    "a = FieldElement(num=0, prime=223)\n",
    "b = FieldElement(num=7, prime=223)\n",
    "x = FieldElement(num=192, prime=223)\n",
    "y = FieldElement(num=105, prime=223)\n",
    "p1 = Point(x, y, a, b)\n",
    "print(p1)"
   ]
  },
  {
   "cell_type": "code",
   "execution_count": 13,
   "metadata": {},
   "outputs": [
    {
     "name": "stderr",
     "output_type": "stream",
     "text": [
      "."
     ]
    },
    {
     "name": "stdout",
     "output_type": "stream",
     "text": [
      "Point(170,142)_0_7 FieldElement(223)\n"
     ]
    },
    {
     "name": "stderr",
     "output_type": "stream",
     "text": [
      "\n",
      "----------------------------------------------------------------------\n",
      "Ran 1 test in 0.001s\n",
      "\n",
      "OK\n"
     ]
    }
   ],
   "source": [
    "from ecc import FieldElement, Point\n",
    "prime = 223\n",
    "a = FieldElement(num=0, prime=prime)\n",
    "b = FieldElement(num=7, prime=prime)\n",
    "x1 = FieldElement(num=192, prime=prime)\n",
    "y1 = FieldElement(num=105, prime=prime)\n",
    "x2 = FieldElement(num=17, prime=prime)\n",
    "y2 = FieldElement(num=56, prime=prime)\n",
    "p1 = Point(x1, y1, a, b)\n",
    "p2 = Point(x2, y2, a, b)\n",
    "print(p1+p2)\n",
    "\n",
    "# 練習問題1のテストを実施する。\n",
    "reload(ecc)\n",
    "run(ecc.ECCTest(\"test_on_curve\"))"
   ]
  },
  {
   "cell_type": "markdown",
   "metadata": {},
   "source": [
    "### 練習問題2\n",
    "\n",
    "For the curve \\\\(y^{2}\\\\)=\\\\(x^{3}\\\\)+7 over \\\\(F_{223}\\\\), find:\n",
    "\n",
    "* (170,142) + (60,139)\n",
    "* (47,71) + (17,56)\n",
    "* (143,98) + (76,66)"
   ]
  },
  {
   "cell_type": "code",
   "execution_count": 11,
   "metadata": {},
   "outputs": [
    {
     "name": "stdout",
     "output_type": "stream",
     "text": [
      "Point(FieldElement_223(220),FieldElement_223(181))_FieldElement_223(0)_FieldElement_223(7)\n",
      "Point(FieldElement_223(215),FieldElement_223(68))_FieldElement_223(0)_FieldElement_223(7)\n",
      "Point(FieldElement_223(47),FieldElement_223(71))_FieldElement_223(0)_FieldElement_223(7)\n"
     ]
    }
   ],
   "source": [
    "# 練習問題 2\n",
    "\n",
    "prime = 223\n",
    "a = FieldElement(0, prime)\n",
    "b = FieldElement(7, prime)\n",
    "\n",
    "# (170,142) + (60,139)の場合\n",
    "p1 = Point(FieldElement(170, prime),  FieldElement(142, prime), a, b)\n",
    "p2 = Point( FieldElement(60, prime),  FieldElement(139, prime), a, b)\n",
    "print(p1+p2)\n",
    "# (47,71) + (17,56)の場合\n",
    "p1 = Point(FieldElement(47, prime),  FieldElement(71, prime), a, b)\n",
    "p2 = Point(FieldElement(17, prime),  FieldElement(56, prime), a, b)\n",
    "print(p1+p2)\n",
    "# (143,98) + (76,66)の場合\n",
    "p1 = Point(FieldElement(143, prime),  FieldElement(98, prime), a, b)\n",
    "p2 = Point(FieldElement(76, prime),  FieldElement(66, prime), a, b)\n",
    "print(p1+p2)"
   ]
  },
  {
   "cell_type": "markdown",
   "metadata": {},
   "source": [
    "### 練習問題 3\n",
    "\n",
    "Extend `ECCTest` to test for the additions from the previous exercise. Call this `test_add`.\n",
    "\n",
    "#### Make [this test](/edit/code-ch03/ecc.py) pass: `ecc.py:ECCTest:test_add`"
   ]
  },
  {
   "cell_type": "code",
   "execution_count": 14,
   "metadata": {},
   "outputs": [
    {
     "name": "stderr",
     "output_type": "stream",
     "text": [
      ".\n",
      "----------------------------------------------------------------------\n",
      "Ran 1 test in 0.001s\n",
      "\n",
      "OK\n"
     ]
    }
   ],
   "source": [
    "# 練習問題 3\n",
    "\n",
    "reload(ecc)\n",
    "run(ecc.ECCTest(\"test_add\"))"
   ]
  },
  {
   "cell_type": "markdown",
   "metadata": {},
   "source": [
    "### 練習問題 4\n",
    "\n",
    "For the curve \\\\(y^{2}\\\\)=\\\\(x^{3}\\\\)+7 over \\\\(F_{223}\\\\), find:\n",
    "\n",
    "* 2⋅(192,105)\n",
    "* 2⋅(143,98)\n",
    "* 2⋅(47,71)\n",
    "* 4⋅(47,71)\n",
    "* 8⋅(47,71)\n",
    "* 21⋅(47,71)"
   ]
  },
  {
   "cell_type": "code",
   "execution_count": 27,
   "metadata": {},
   "outputs": [
    {
     "name": "stdout",
     "output_type": "stream",
     "text": [
      "2*(FieldElement_223(192),FieldElement_223(105))=(49,71)\n",
      "2*(FieldElement_223(143),FieldElement_223(98))=(64,168)\n",
      "2*(FieldElement_223(47),FieldElement_223(71))=(36,111)\n",
      "4*(FieldElement_223(47),FieldElement_223(71))=(194,51)\n",
      "8*(FieldElement_223(47),FieldElement_223(71))=(116,55)\n",
      "21*(FieldElement_223(47),FieldElement_223(71))=(infinity)\n"
     ]
    }
   ],
   "source": [
    "#  練習問題 4\n",
    "\n",
    "prime = 223\n",
    "a = FieldElement(0, prime)\n",
    "b = FieldElement(7, prime)\n",
    "\n",
    "# 点のスカラー演算を行う関数\n",
    "def scalarCalc(c, x, y, a, b):\n",
    "    # Pを生成する。\n",
    "    p = Point(x, y, a, b)\n",
    "    # s回だけ点を加算する。\n",
    "    for s in range(1, (c+1)):\n",
    "        result = s*p\n",
    "    # 結果を出力する。\n",
    "    if (result.x == None):\n",
    "         print('{}*({},{})=(infinity)'.format(c, x, y))\n",
    "    else:\n",
    "        print('{}*({},{})=({},{})'.format(c, x, y, result.x.num, result.y.num))\n",
    "\n",
    "# 2*(192, 105)の場合\n",
    "x = FieldElement(192, prime)\n",
    "y = FieldElement(105, prime)\n",
    "scalarCalc(2, x, y, a, b)\n",
    "# 2*(143, 98)の場合\n",
    "x = FieldElement(143, prime)\n",
    "y = FieldElement(98, prime)\n",
    "scalarCalc(2, x, y, a, b)\n",
    "# 2*(47, 71)の場合\n",
    "x = FieldElement(47, prime)\n",
    "y = FieldElement(71, prime)\n",
    "scalarCalc(2, x, y, a, b)\n",
    "# 4*(47, 71)の場合\n",
    "scalarCalc(4, x, y, a, b)\n",
    "# 8*(47, 71)の場合\n",
    "scalarCalc(8, x, y, a, b)\n",
    "# 21*(47, 71)の場合\n",
    "scalarCalc(21, x, y, a, b)"
   ]
  },
  {
   "cell_type": "code",
   "execution_count": 15,
   "metadata": {},
   "outputs": [
    {
     "name": "stdout",
     "output_type": "stream",
     "text": [
      "1*(47,71)=(47,71)\n",
      "2*(47,71)=(36,111)\n",
      "3*(47,71)=(15,137)\n",
      "4*(47,71)=(194,51)\n",
      "5*(47,71)=(126,96)\n",
      "6*(47,71)=(139,137)\n",
      "7*(47,71)=(92,47)\n",
      "8*(47,71)=(116,55)\n",
      "9*(47,71)=(69,86)\n",
      "10*(47,71)=(154,150)\n",
      "11*(47,71)=(154,73)\n",
      "12*(47,71)=(69,137)\n",
      "13*(47,71)=(116,168)\n",
      "14*(47,71)=(92,176)\n",
      "15*(47,71)=(139,86)\n",
      "16*(47,71)=(126,127)\n",
      "17*(47,71)=(194,172)\n",
      "18*(47,71)=(15,86)\n",
      "19*(47,71)=(36,112)\n",
      "20*(47,71)=(47,152)\n"
     ]
    }
   ],
   "source": [
    "from ecc import FieldElement, Point\n",
    "prime = 223\n",
    "a = FieldElement(0, prime)\n",
    "b = FieldElement(7, prime)\n",
    "x = FieldElement(47, prime)\n",
    "y = FieldElement(71, prime)\n",
    "p = Point(x, y, a, b)\n",
    "for s in range(1,21):\n",
    "    result = s*p\n",
    "    print('{}*(47,71)=({},{})'.format(s,result.x.num,result.y.num))"
   ]
  },
  {
   "cell_type": "markdown",
   "metadata": {},
   "source": [
    "### 練習問題 5\n",
    "\n",
    "For the curve \\\\(y^{2}\\\\)=\\\\(x^{3}\\\\)+7 over \\\\(F_{223}\\\\), find the order of the group generated by (15,86)"
   ]
  },
  {
   "cell_type": "code",
   "execution_count": 32,
   "metadata": {},
   "outputs": [
    {
     "name": "stdout",
     "output_type": "stream",
     "text": [
      "7\n"
     ]
    }
   ],
   "source": [
    "# 練習問題 5\n",
    "# 無限遠点になるまでに加算できる数を求める。\n",
    "\n",
    "prime = 223\n",
    "a = FieldElement(0, prime)\n",
    "b = FieldElement(7, prime)\n",
    "x = FieldElement(15, prime)\n",
    "y = FieldElement(86, prime)\n",
    "p = Point(x, y, a, b)\n",
    "inf = Point(None, None, a, b)\n",
    "\n",
    "# create a product variable\n",
    "product = p\n",
    "# create a counter variable\n",
    "counter = 1\n",
    "# loop until the product is the point at infinity\n",
    "while product != inf:\n",
    "    # add the point to the product and increment counter\n",
    "    product += p \n",
    "    counter += 1\n",
    "# print the counter when exited from loop\n",
    "print(counter)"
   ]
  },
  {
   "cell_type": "code",
   "execution_count": 28,
   "metadata": {},
   "outputs": [
    {
     "name": "stdout",
     "output_type": "stream",
     "text": [
      "Point(infinity)\n"
     ]
    }
   ],
   "source": [
    "# 練習問題5でやりたいこと\n",
    "\n",
    "from ecc import FieldElement, Point\n",
    "prime = 223\n",
    "a = FieldElement(0, prime)\n",
    "b = FieldElement(7, prime)\n",
    "x = FieldElement(15, prime)\n",
    "y = FieldElement(86, prime)\n",
    "p = Point(x, y, a, b)\n",
    "print(7*p)"
   ]
  },
  {
   "cell_type": "code",
   "execution_count": 33,
   "metadata": {},
   "outputs": [
    {
     "name": "stdout",
     "output_type": "stream",
     "text": [
      "True\n"
     ]
    }
   ],
   "source": [
    "# 生成点Gのx座標\n",
    "gx = 0x79be667ef9dcbbac55a06295ce870b07029bfcdb2dce28d959f2815b16f81798\n",
    "# 生成点Gのy座標\n",
    "gy = 0x483ada7726a3c4655da4fbfc0e1108a8fd17b448a68554199c47d08ffb10d4b8\n",
    "# 有限体の素数p\n",
    "p = 2**256 - 2**32 - 977\n",
    "# 生成点が曲線上に存在することを確かめる。\n",
    "print(gy**2 % p == (gx**3 + 7) % p)"
   ]
  },
  {
   "cell_type": "code",
   "execution_count": 34,
   "metadata": {},
   "outputs": [
    {
     "name": "stdout",
     "output_type": "stream",
     "text": [
      "Point(infinity)\n"
     ]
    }
   ],
   "source": [
    "from ecc import FieldElement, Point\n",
    "# 生成点Gのx座標\n",
    "gx = 0x79be667ef9dcbbac55a06295ce870b07029bfcdb2dce28d959f2815b16f81798\n",
    "# 生成点Gのy座標\n",
    "gy = 0x483ada7726a3c4655da4fbfc0e1108a8fd17b448a68554199c47d08ffb10d4b8\n",
    "# 有限体の素数p\n",
    "p = 2**256 - 2**32 - 977\n",
    "# 群の位数\n",
    "n = 0xfffffffffffffffffffffffffffffffebaaedce6af48a03bbfd25e8cd0364141\n",
    "x = FieldElement(gx, p)\n",
    "y = FieldElement(gy, p)\n",
    "# b\n",
    "seven = FieldElement(7, p)\n",
    "# a\n",
    "zero = FieldElement(0, p)\n",
    "# Gを求める。\n",
    "G = Point(x, y, zero, seven)\n",
    "print(n*G)"
   ]
  },
  {
   "cell_type": "code",
   "execution_count": 35,
   "metadata": {},
   "outputs": [
    {
     "name": "stdout",
     "output_type": "stream",
     "text": [
      "S256Point(infinity)\n"
     ]
    }
   ],
   "source": [
    "from ecc import G, N\n",
    "print(N*G)"
   ]
  },
  {
   "cell_type": "code",
   "execution_count": 36,
   "metadata": {},
   "outputs": [
    {
     "name": "stdout",
     "output_type": "stream",
     "text": [
      "True\n"
     ]
    }
   ],
   "source": [
    "# 署名の検証を行う。\n",
    "from ecc import S256Point, G, N\n",
    "\n",
    "# 署名対象のハッシュ\n",
    "z = 0xbc62d4b80d9e36da29c16c5d4d9f11731f36052c72401a76c23c0fb5a9b74423\n",
    "# 署名の要素r\n",
    "r = 0x37206a0610995c58074999cb9767b87af4c4978db68c06e8e6e81d282047a7c6\n",
    "# 署名の要素s\n",
    "s = 0x8ca63759c1157ebeaec0d03cecca119fc9a75bf8e6d0fa65c841c8e2738cdaec\n",
    "# 公開鍵のx座標\n",
    "px = 0x04519fac3d910ca7e7138f7013706f619fa8f033e6ec6e09370ea38cee6a7574\n",
    "# 公開鍵のy座標\n",
    "py = 0x82b51eab8c27c66e26c858a079bcdf4f1ada34cec420cafc7eac1a42216fb6c4\n",
    "# secp256k1曲線上の点を定義する。\n",
    "point = S256Point(px, py)\n",
    "# N： 群の位数 \n",
    "# 1/sを求める。\n",
    "s_inv = pow(s, N-2, N)\n",
    "u = z * s_inv % N\n",
    "v = r * s_inv % N\n",
    "# 点Rのx座標とrが等しいかチェックする。\n",
    "print((u*G + v*point).x.num == r)"
   ]
  },
  {
   "cell_type": "markdown",
   "metadata": {},
   "source": [
    "### 練習問題 6\n",
    "\n",
    "Verify whether these signatures are valid:\n",
    "\n",
    "```\n",
    "公開鍵\n",
    "P = (0x887387e452b8eacc4acfde10d9aaf7f6d9a0f975aabb10d006e4da568744d06c,\n",
    "0x61de6d95231cd89026e286df3b6ae4a894a3378e393e93a0f45b666329a0ae34)\n",
    "\n",
    "# 署名済みデータ 1\n",
    "z = 0xec208baa0fc1c19f708a9ca96fdeff3ac3f230bb4a7ba4aede4942ad003c0f60\n",
    "r = 0xac8d1c87e51d0d441be8b3dd5b05c8795b48875dffe00b7ffcfac23010d3a395\n",
    "s = 0x68342ceff8935ededd102dd876ffd6ba72d6a427a3edb13d26eb0781cb423c4\n",
    "\n",
    "# 署名済みデータ 2\n",
    "z = 0x7c076ff316692a3d7eb3c3bb0f8b1488cf72e1afcd929e29307032997a838a3d\n",
    "r = 0xeff69ef2b1bd93a66ed5219add4fb51e11a840f404876325a1e8ffe0529a2c\n",
    "s = 0xc7207fee197d27c618aea621406f6bf5ef6fca38681d82b2f06fddbdce6feab6\n",
    "```"
   ]
  },
  {
   "cell_type": "code",
   "execution_count": 39,
   "metadata": {},
   "outputs": [
    {
     "name": "stdout",
     "output_type": "stream",
     "text": [
      "署名は有効です。\n",
      "署名は有効です。\n"
     ]
    }
   ],
   "source": [
    "# 練習問題 6\n",
    "\n",
    "# ポイント： secp256曲線上の公開鍵の座標と署名ハッシュ値が与えられれば検証することが可能！\n",
    "\n",
    "# 公開鍵(x座標とy座標)\n",
    "point = S256Point(\n",
    "    0x887387e452b8eacc4acfde10d9aaf7f6d9a0f975aabb10d006e4da568744d06c, \n",
    "    0x61de6d95231cd89026e286df3b6ae4a894a3378e393e93a0f45b666329a0ae34)\n",
    "# 署名済みデータ 1\n",
    "z1 = 0xec208baa0fc1c19f708a9ca96fdeff3ac3f230bb4a7ba4aede4942ad003c0f60\n",
    "r1 = 0xac8d1c87e51d0d441be8b3dd5b05c8795b48875dffe00b7ffcfac23010d3a395\n",
    "s1 = 0x68342ceff8935ededd102dd876ffd6ba72d6a427a3edb13d26eb0781cb423c4\n",
    "# 署名済みデータ 2\n",
    "z2 = 0x7c076ff316692a3d7eb3c3bb0f8b1488cf72e1afcd929e29307032997a838a3d\n",
    "r2 = 0xeff69ef2b1bd93a66ed5219add4fb51e11a840f404876325a1e8ffe0529a2c\n",
    "s2 = 0xc7207fee197d27c618aea621406f6bf5ef6fca38681d82b2f06fddbdce6feab6\n",
    "\n",
    "# 署名検証用の関数\n",
    "def checkSig(point, N, z, r, s):\n",
    "    # secp256k1曲線上の点を定義する。\n",
    "    p = S256Point(point.x, point.y)\n",
    "    # N： 群の位数 \n",
    "    # 1/sを求める。\n",
    "    s_inv = pow(s, N-2, N)\n",
    "    # uを求める。(モジュロ演算)\n",
    "    u = z * s_inv % N\n",
    "    # vを求める。(モジュロ演算)\n",
    "    v = r * s_inv % N\n",
    "    # uG + vPを計算し、点Rを求める。\n",
    "    # 点Rのx座標とrが等しいかチェックする。\n",
    "    if (u*G + v*p).x.num == r :\n",
    "        print(\"署名は有効です。\")\n",
    "    else :\n",
    "        print(\"署名は無効です。\")\n",
    "\n",
    "# 署名済みデータ1について検証する。\n",
    "checkSig(point, N, z1, r1, s1)\n",
    "# 署名済みデータ2について検証する。\n",
    "checkSig(point, N, z2, r2, s2)"
   ]
  },
  {
   "cell_type": "code",
   "execution_count": 40,
   "metadata": {},
   "outputs": [
    {
     "name": "stdout",
     "output_type": "stream",
     "text": [
      "S256Point(028d003eab2e428d11983f3e97c3fa0addf3b42740df0d211795ffb3be2f6c52, 0ae987b9ec6ea159c78cb2a937ed89096fb218d9e7594f02b547526d8cd309e2)\n",
      "0x231c6f3d980a6b0fb7152f85cee7eb52bf92433d9919b9c5218cb08e79cce78\n",
      "0x2b698a0f0a4041b77e63488ad48c23e8e8838dd1fb7520408b121697b782ef22\n",
      "0xbb14e602ef9e3f872e25fad328466b34e6734b7a0fcd58b1eb635447ffae8cb9\n"
     ]
    }
   ],
   "source": [
    "#  署名実行関数\n",
    "from ecc import S256Point, G, N\n",
    "from helper import hash256\n",
    "# 秘密鍵生成\n",
    "e = int.from_bytes(hash256(b'my secret'), 'big')\n",
    "# 署名ハッシュ(署名しようとしているメッセージのハッシュ)\n",
    "z = int.from_bytes(hash256(b'my message'), 'big')\n",
    "# ランダムな値k\n",
    "k = 1234567890\n",
    "# rを求める。kGのx座標\n",
    "r = (k*G).x.num\n",
    "# 1/kを求める。\n",
    "k_inv = pow(k, N-2, N)\n",
    "# sを求める。\n",
    "s = (z+r*e) * k_inv % N\n",
    "# Pを求める。(eG)\n",
    "point = e*G\n",
    "print(point)\n",
    "print(hex(z))\n",
    "print(hex(r))\n",
    "print(hex(s))"
   ]
  },
  {
   "cell_type": "markdown",
   "metadata": {},
   "source": [
    "### 練習問題 7\n",
    "\n",
    "Sign the following message with the secret\n",
    "\n",
    "```\n",
    "e = 12345\n",
    "z = int.from_bytes(hash256('Programming Bitcoin!'), 'big')\n",
    "```"
   ]
  },
  {
   "cell_type": "code",
   "execution_count": 41,
   "metadata": {},
   "outputs": [
    {
     "name": "stdout",
     "output_type": "stream",
     "text": [
      "S256Point(f01d6b9018ab421dd410404cb869072065522bf85734008f105cf385a023a80f, 0eba29d0f0c5408ed681984dc525982abefccd9f7ff01dd26da4999cf3f6a295)\n",
      "0x969f6056aa26f7d2795fd013fe88868d09c9f6aed96965016e1936ae47060d48\n",
      "0x2b698a0f0a4041b77e63488ad48c23e8e8838dd1fb7520408b121697b782ef22\n",
      "0x1dbc63bfef4416705e602a7b564161167076d8b20990a0f26f316cff2cb0bc1a\n"
     ]
    }
   ],
   "source": [
    "# 練習問題 7\n",
    "\n",
    "# 秘密鍵\n",
    "e = 12345\n",
    "# 署名したいメッセージのハッシュ\n",
    "z = int.from_bytes(hash256(b'Programming Bitcoin!'), 'big')\n",
    "\n",
    "# choose a random k\n",
    "k = 1234567890\n",
    "# 1/kを求める。\n",
    "k_inv = pow(k, N -2, N)\n",
    "# kGを計算してx座標rを求める。\n",
    "r = (k * G).x.num\n",
    "# ((z+re)/k)を計算して、sを求める。\n",
    "s = ((z + r * e) * k_inv) % N\n",
    "# Pを求める。\n",
    "point = e * G\n",
    "# print the point, z, r and s\n",
    "print(point)\n",
    "print(hex(z))\n",
    "print(hex(r))\n",
    "print(hex(s))"
   ]
  },
  {
   "cell_type": "code",
   "execution_count": null,
   "metadata": {},
   "outputs": [],
   "source": []
  }
 ],
 "metadata": {
  "kernelspec": {
   "display_name": "Python 3",
   "language": "python",
   "name": "python3"
  },
  "language_info": {
   "codemirror_mode": {
    "name": "ipython",
    "version": 3
   },
   "file_extension": ".py",
   "mimetype": "text/x-python",
   "name": "python",
   "nbconvert_exporter": "python",
   "pygments_lexer": "ipython3",
   "version": "3.8.5"
  }
 },
 "nbformat": 4,
 "nbformat_minor": 2
}
