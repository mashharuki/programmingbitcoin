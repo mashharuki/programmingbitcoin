{
 "cells": [
  {
   "cell_type": "code",
   "execution_count": 6,
   "metadata": {},
   "outputs": [],
   "source": [
    "# 必要なライブラリをインポートする。\n",
    "from importlib import reload\n",
    "from helper import run\n",
    "import ecc\n",
    "import helper\n",
    "import tx\n",
    "import script"
   ]
  },
  {
   "cell_type": "code",
   "execution_count": 7,
   "metadata": {},
   "outputs": [
    {
     "name": "stdout",
     "output_type": "stream",
     "text": [
      "True\n"
     ]
    }
   ],
   "source": [
    "from tx import Tx\n",
    "from io import BytesIO\n",
    "raw_tx = ('0100000001813f79011acb80925dfe69b3def355fe914bd1d96a3f5f71bf8303c6a989c7d1000000006b483045022100ed81ff192e75a3fd2304004dcadb746fa5e24c5031ccfcf21320b0277457c98f02207a986d955c6e0cb35d446a89d3f56100f4d7f67801c31967743a9c8e10615bed01210349fc4e631e3624a545de3f89f5d8684c7b8138bd94bdd531d2e213bf016b278afeffffff02a135ef01000000001976a914bc3b654dca7e56b04dca18f2566cdaf02e8d9ada88ac99c39800000000001976a9141c4bc762dd5423e332166702cb75f40df79fea1288ac19430600')\n",
    "stream = BytesIO(bytes.fromhex(raw_tx))\n",
    "# パースする。\n",
    "transaction = Tx.parse(stream)\n",
    "# 手数料を確認する。\n",
    "print(transaction.fee() >= 0)"
   ]
  },
  {
   "cell_type": "code",
   "execution_count": 3,
   "metadata": {},
   "outputs": [
    {
     "name": "stdout",
     "output_type": "stream",
     "text": [
      "True\n"
     ]
    }
   ],
   "source": [
    "from ecc import S256Point, Signature\n",
    "# 秘密鍵\n",
    "sec = bytes.fromhex('0349fc4e631e3624a545de3f89f5d8684c7b8138bd94bdd531d2e213bf016b278a')\n",
    "# 署名\n",
    "der = bytes.fromhex('3045022100ed81ff192e75a3fd2304004dcadb746fa5e24c5031ccfcf21320b0277457c98f02207a986d955c6e0cb35d446a89d3f56100f4d7f67801c31967743a9c8e10615bed')\n",
    "#  ハッシュ対象\n",
    "z = 0x27e0c5994dec7824e56dec6b2fcb342eb7cdb0d0957c2fce9882f715e85d81a6\n",
    "# パースする。\n",
    "point = S256Point.parse(sec)\n",
    "signature = Signature.parse(der)\n",
    "# 署名を検証する。\n",
    "print(point.verify(z, signature))"
   ]
  },
  {
   "cell_type": "code",
   "execution_count": 4,
   "metadata": {},
   "outputs": [
    {
     "name": "stdout",
     "output_type": "stream",
     "text": [
      "0x27e0c5994dec7824e56dec6b2fcb342eb7cdb0d0957c2fce9882f715e85d81a6\n"
     ]
    }
   ],
   "source": [
    "from helper import hash256\n",
    "# 署名ハッシュを取得する\n",
    "modified_tx = bytes.fromhex('0100000001813f79011acb80925dfe69b3def355fe914bd1d96a3f5f71bf8303c6a989c7d1000000001976a914a802fc56c704ce87c42d7c92eb75e7896bdc41ae88acfeffffff02a135ef01000000001976a914bc3b654dca7e56b04dca18f2566cdaf02e8d9ada88ac99c39800000000001976a9141c4bc762dd5423e332166702cb75f40df79fea1288ac1943060001000000')\n",
    "# ハッシュ値に変換\n",
    "h256 = hash256(modified_tx)\n",
    "# ビッグエンディアン整数として認識される。\n",
    "z = int.from_bytes(h256, 'big')\n",
    "# zを取得する。\n",
    "print(hex(z))"
   ]
  },
  {
   "cell_type": "code",
   "execution_count": 10,
   "metadata": {},
   "outputs": [
    {
     "data": {
      "text/plain": [
       "True"
      ]
     },
     "execution_count": 10,
     "metadata": {},
     "output_type": "execute_result"
    }
   ],
   "source": [
    "from ecc import S256Point, Signature\n",
    "# SECフォーマットの公開鍵\n",
    "sec = bytes.fromhex('0349fc4e631e3624a545de3f89f5d8684c7b8138bd94bdd531d2e213bf016b278a')\n",
    "# DERフォーマットの電子署名\n",
    "der = bytes.fromhex('3045022100ed81ff192e75a3fd2304004dcadb746fa5e24c5031ccfcf21320b0277457c98f02207a986d955c6e0cb35d446a89d3f56100f4d7f67801c31967743a9c8e10615bed')\n",
    "# 署名ハッシュz\n",
    "z = 0x27e0c5994dec7824e56dec6b2fcb342eb7cdb0d0957c2fce9882f715e85d81a6\n",
    "point = S256Point.parse(sec)\n",
    "signature = Signature.parse(der)\n",
    "#　署名を検証する。\n",
    "point.verify(z, signature)"
   ]
  },
  {
   "cell_type": "markdown",
   "metadata": {},
   "source": [
    "### 練習問題 1\n",
    "\n",
    "Write the `sig_hash` method for the `Tx` class.\n",
    "\n",
    "#### Make [this test](/edit/code-ch07/tx.py) pass: `tx.py:TxTest:test_sig_hash`"
   ]
  },
  {
   "cell_type": "code",
   "execution_count": 15,
   "metadata": {},
   "outputs": [
    {
     "name": "stderr",
     "output_type": "stream",
     "text": [
      ".\n",
      "----------------------------------------------------------------------\n",
      "Ran 1 test in 0.002s\n",
      "\n",
      "OK\n"
     ]
    }
   ],
   "source": [
    "# 練習問題 1\n",
    "\n",
    "reload(tx)\n",
    "run(tx.TxTest(\"test_sig_hash\"))"
   ]
  },
  {
   "cell_type": "markdown",
   "metadata": {},
   "source": [
    "### 練習問題 2\n",
    "\n",
    "Write the `verify_input` method for the `Tx` class. You will want to use the `TxIn.script_pubkey()`, `Tx.sig_hash()` and `Script.evaluate()` methods.\n",
    "\n",
    "#### Make [this test](/edit/code-ch07/tx.py) pass: `tx.py:TxTest:test_verify_p2pkh`"
   ]
  },
  {
   "cell_type": "code",
   "execution_count": 20,
   "metadata": {},
   "outputs": [
    {
     "name": "stderr",
     "output_type": "stream",
     "text": [
      ".\n",
      "----------------------------------------------------------------------\n",
      "Ran 1 test in 0.263s\n",
      "\n",
      "OK\n"
     ]
    }
   ],
   "source": [
    "# 練習問題 2\n",
    "\n",
    "reload(tx)\n",
    "run(tx.TxTest(\"test_verify_p2pkh\"))"
   ]
  },
  {
   "cell_type": "code",
   "execution_count": 1,
   "metadata": {},
   "outputs": [
    {
     "name": "stdout",
     "output_type": "stream",
     "text": [
      "tx: cd30a8da777d28ef0e61efe68a9f7c559c1d3e5bcd7b265c850ccb4068598d11\n",
      "version: 1\n",
      "tx_ins:\n",
      "0d6fe5213c0b3291f208cba8bfb59b7476dffacc4e5cb66f6eb20a080843a299:13\n",
      "tx_outs:\n",
      "33000000:OP_DUP OP_HASH160 d52ad7ca9b3d096a38e752c2018e6fbc40cdf26f OP_EQUALVERIFY OP_CHECKSIG\n",
      "10000000:OP_DUP OP_HASH160 507b27411ccf7f16f10297de6cef3f291623eddf OP_EQUALVERIFY OP_CHECKSIG\n",
      "locktime: 0\n"
     ]
    }
   ],
   "source": [
    "from helper import decode_base58, SIGHASH_ALL\n",
    "from script import p2pkh_script, Script\n",
    "from tx import TxIn, TxOut, Tx\n",
    "# インプットトランザクション\n",
    "prev_tx = bytes.fromhex('0d6fe5213c0b3291f208cba8bfb59b7476dffacc4e5cb66f6eb20a080843a299')\n",
    "# インプットインデックス\n",
    "prev_index = 13\n",
    "# インプットトランザクションを用意する。\n",
    "tx_in = TxIn(prev_tx, prev_index)\n",
    "# 配列を宣言\n",
    "tx_outs = []\n",
    "change_amount = int(0.33*100000000)\n",
    "# 20バイトのハッシュ値に変換する。\n",
    "change_h160 = decode_base58('mzx5YhAH9kNHtcN481u6WkjeHjYtVeKVh2')\n",
    "# スクリプトを取得する。\n",
    "change_script = p2pkh_script(change_h160)\n",
    "# アウトプットトランザクション生成\n",
    "change_output = TxOut(amount=change_amount, script_pubkey=change_script)\n",
    "# 同様に2つ目のアウトプットが作られる。\n",
    "target_amount = int(0.1*100000000)\n",
    "target_h160 = decode_base58('mnrVtF8DWjMu839VW3rBfgYaAfKk8983Xf')\n",
    "target_script = p2pkh_script(target_h160)\n",
    "target_output = TxOut(amount=target_amount, script_pubkey=target_script)\n",
    "# トランザクションを生成する。\n",
    "tx_obj = Tx(1, [tx_in], [change_output, target_output], 0, True)\n",
    "print(tx_obj)"
   ]
  },
  {
   "cell_type": "code",
   "execution_count": 8,
   "metadata": {},
   "outputs": [
    {
     "name": "stdout",
     "output_type": "stream",
     "text": [
      "0100000001813f79011acb80925dfe69b3def355fe914bd1d96a3f5f71bf8303c6a989c7d1000000006a47304402207db2402a3311a3b845b038885e3dd889c08126a8570f26a844e3e4049c482a11022010178cdca4129eacbeab7c44648bf5ac1f9cac217cd609d216ec2ebc8d242c0a012103935581e52c354cd2f484fe8ed83af7a3097005b2f9c60bff71d35bd795f54b67feffffff02a135ef01000000001976a914bc3b654dca7e56b04dca18f2566cdaf02e8d9ada88ac99c39800000000001976a9141c4bc762dd5423e332166702cb75f40df79fea1288ac19430600\n"
     ]
    }
   ],
   "source": [
    "# トランザクションを署名する関数\n",
    "from ecc import PrivateKey\n",
    "from helper import SIGHASH_ALL\n",
    "# トランザクションのハッシュ値を生成する。\n",
    "z = transaction.sig_hash(0)\n",
    "# 秘密鍵を生成する。\n",
    "private_key = PrivateKey(secret=8675309)\n",
    "# DERフォーマットの署名を生成する。\n",
    "der = private_key.sign(z).der()\n",
    "sig = der + SIGHASH_ALL.to_bytes(1, 'big')\n",
    "# SECフォーマットの秘密鍵を生成する。\n",
    "sec = private_key.point.sec()\n",
    "# Scriptを生成する。\n",
    "script_sig = Script([sig, sec])\n",
    "# スクリプトシグを生成する。\n",
    "transaction.tx_ins[0].script_sig = script_sig \n",
    "# トランザクションを出力する。\n",
    "print(transaction.serialize().hex())"
   ]
  },
  {
   "cell_type": "markdown",
   "metadata": {},
   "source": [
    "### 練習問題 3\n",
    "\n",
    "Write the `sign_input` method for the `Tx` class.\n",
    "\n",
    "#### Make [this test](/edit/code-ch07/tx.py) pass: `tx.py:TxTest:test_sign_input`"
   ]
  },
  {
   "cell_type": "code",
   "execution_count": 9,
   "metadata": {},
   "outputs": [
    {
     "name": "stderr",
     "output_type": "stream",
     "text": [
      ".\n",
      "----------------------------------------------------------------------\n",
      "Ran 1 test in 0.209s\n",
      "\n",
      "OK\n"
     ]
    }
   ],
   "source": [
    "# 練習問題 3\n",
    "\n",
    "reload(tx)\n",
    "run(tx.TxTest(\"test_sign_input\"))"
   ]
  },
  {
   "cell_type": "code",
   "execution_count": 4,
   "metadata": {},
   "outputs": [
    {
     "name": "stdout",
     "output_type": "stream",
     "text": [
      "mjH7bSQQD8AuEaohFThhtCxa5wyHiRS38x\n"
     ]
    }
   ],
   "source": [
    "# アドレスを生成するためのテスト\n",
    "from ecc import PrivateKey\n",
    "from helper import hash256, little_endian_to_int\n",
    "secret = little_endian_to_int(hash256(b'harukiTest'))\n",
    "private_key = PrivateKey(secret)\n",
    "print(private_key.point.address(testnet=True))"
   ]
  },
  {
   "cell_type": "markdown",
   "metadata": {},
   "source": [
    "### 練習問題 4\n",
    "\n",
    "Create a testnet transaction that sends 60% of a single UTXO to `mwJn1YPMq7y5F8J3LkC5Hxg9PHyZ5K4cFv`. The remaining amount minus fees should go back to your own change address. This should be a 1 input, 2 output transaction.\n",
    "\n",
    "You can broadcast the transaction at https://live.blockcypher.com/btc/pushtx"
   ]
  },
  {
   "cell_type": "code",
   "execution_count": 19,
   "metadata": {},
   "outputs": [
    {
     "name": "stdout",
     "output_type": "stream",
     "text": [
      "mmhv8u8kvRiLzmL364gMdpxnApgAB56nnQ\n",
      "False\n",
      "010000000199a24308080ab26e6fb65c4eccfadf76749bb5bfa8cb08f291320b3c21e56f0d010000006b483045022100851e17339ce65ce76eb91209f7e67cc6e802c90789deab1011ba2fa778e3555602204a018090f7982fe73f0e6deab3e8a8c49297ae792be047b49e5cf4b4611c66b201210212ea3a4481ba46b61514b3c159b608678da9bc586642418f8fbfc1294c9ec196ffffffff0200c06e31d91001001976a914ad346f8eb57dee9a37981716e498120ae80e44f788ac9fbb0d00000000001976a91443e3876d6f6fcaaeac38295ebbed8d7b4f39411888ac00000000\n"
     ]
    }
   ],
   "source": [
    "# 練習問題 4\n",
    "\n",
    "from ecc import PrivateKey\n",
    "from helper import decode_base58, SIGHASH_ALL\n",
    "from script import p2pkh_script, Script\n",
    "from tx import TxIn, TxOut, Tx\n",
    "\n",
    "# create 1 TxIn and 2 TxOuts\n",
    "# 1 of the TxOuts should be back to your address\n",
    "my_address = 'mmhv8u8kvRiLzmL364gMdpxnApgAB56nnQ'\n",
    "# the other TxOut should be to this address\n",
    "target_address = 'mwJn1YPMq7y5F8J3LkC5Hxg9PHyZ5K4cFv'\n",
    "\n",
    "# 秘密鍵を生成する。\n",
    "passphrase = b'test@test-address.com some secret only you know'\n",
    "# secret = little_endian_to_int(hash256(passphrase))\n",
    "secret = little_endian_to_int(hash256(passphrase))\n",
    "# create a private key using your secret\n",
    "priv = PrivateKey(secret)\n",
    "# アドレスを出力する。\n",
    "print(priv.point.address(compressed = True, testnet=True))\n",
    "\n",
    "# インプットトランザクションを取得する。\n",
    "prev_tx = bytes.fromhex('0d6fe5213c0b3291f208cba8bfb59b7476dffacc4e5cb66f6eb20a080843a299')\n",
    "# トランザクションインデックスを取得する。\n",
    "prev_index = 1\n",
    "# インプットトランザクションを用意する。\n",
    "tx_in = TxIn(prev_tx, prev_index)\n",
    "# インプットトランザクション用の配列を宣言\n",
    "tx_ins = []\n",
    "# 配列に要素を追加する。\n",
    "tx_ins.append(TxIn(prev_tx, prev_index))\n",
    "# アウトプットトランザクション用の配列を宣言\n",
    "tx_outs = []\n",
    "# target amount should be 60% of the output amount\n",
    "# set the fee to some reasonable amount\n",
    "# change amount = amount from the prev tx - target amount - fee\n",
    "# 送金額を設定する。\n",
    "target_amount = tx_in.value(testnet=True) * 0.6\n",
    "target_satoshi = int(target_amount * 100000000)\n",
    "# 手数料を算出する。\n",
    "#stream = BytesIO(prev_tx)\n",
    "# パースする。\n",
    "#transaction2 = Tx.parse(stream)\n",
    "#fee = transaction2.fee() \n",
    "# お釣りを算出する。\n",
    "change_amount = 0.009\n",
    "change_satoshi = int(change_amount * 100000000)\n",
    "\n",
    "# 1つ目のアウトプットトランザクションを生成する。\n",
    "target_h160 = decode_base58(target_address)\n",
    "# Script_pubkeyを生成する。\n",
    "target_script = p2pkh_script(target_h160)\n",
    "target_output = TxOut(amount=target_satoshi, script_pubkey=target_script)\n",
    "# 2つめのアウトプットトランザクションを生成する。\n",
    "change_h160 = decode_base58(my_address)\n",
    "# Script_pubkeyを生成する。\n",
    "change_script = p2pkh_script(change_h160)\n",
    "change_output = TxOut(amount=change_satoshi, script_pubkey=change_script)\n",
    "# それぞれ配列に追加する。\n",
    "tx_outs.append(target_output )\n",
    "tx_outs.append(change_output )\n",
    "#  トランザクションデータを生成する。\n",
    "tx_obj = Tx(1, tx_ins, tx_outs, 0, testnet=True)\n",
    "# 送信者の秘密鍵でトランザクションに署名する。\n",
    "print(tx_obj.sign_input(0, priv))\n",
    "# 16進数でトランザクションを出力する。\n",
    "print(tx_obj.serialize().hex())"
   ]
  },
  {
   "cell_type": "markdown",
   "metadata": {},
   "source": [
    "###  練習問題 5\n",
    "\n",
    "Advanced: get some more testnet coins from a testnet faucet and create a 2 input, 1 output transaction. 1 input should be from the faucet, the other should be from the previous exercise, the output can be your own address.\n",
    "\n",
    "You can broadcast the transaction at https://testnet.blockchain.info/pushtx"
   ]
  },
  {
   "cell_type": "code",
   "execution_count": 21,
   "metadata": {},
   "outputs": [
    {
     "name": "stdout",
     "output_type": "stream",
     "text": [
      "False\n",
      "False\n"
     ]
    }
   ],
   "source": [
    "# 練習問題 5\n",
    "\n",
    "from ecc import PrivateKey\n",
    "from helper import decode_base58, SIGHASH_ALL\n",
    "from script import p2pkh_script, Script\n",
    "from tx import TxIn, TxOut, Tx\n",
    "\n",
    "# Create 2 TxIns, 1 from the Exercise 4 and 1 from a testnet faucet\n",
    "# Creat 1 TxOut to the address above\n",
    "target_address = 'mwJn1YPMq7y5F8J3LkC5Hxg9PHyZ5K4cFv'\n",
    "change_address = 'mjH7bSQQD8AuEaohFThhtCxa5wyHiRS38x'\n",
    "# 秘密鍵を生成する。\n",
    "passphrase = b'test@test-address.com some secret only you know'\n",
    "# secret = little_endian_to_int(hash256(passphrase))\n",
    "secret = little_endian_to_int(hash256(passphrase))\n",
    "# 秘密鍵を生成する\n",
    "priv = PrivateKey(secret)\n",
    "priv2 = PrivateKey(secret=8675309)\n",
    "\n",
    "# インプットトランザクション用の配列を宣言\n",
    "tx_ins = []\n",
    "# 1つ目のインプットトランザクションを取得する。\n",
    "prev_tx = bytes.fromhex('1db91a35684f2767befa0341e85f1f26e7618950c5a023da4e133339b589a9e9')\n",
    "# トランザクションインデックスを取得する。\n",
    "prev_index = 1\n",
    "# 1つ目のインプットトランザクションを設定する。\n",
    "tx_in = TxIn(prev_tx, prev_index)\n",
    "# 送金額を設定する。\n",
    "target_amount = tx_in.value(testnet=True)\n",
    "target_satoshi = int(target_amount * 100000000)\n",
    "# 配列に要素を追加する。\n",
    "tx_ins.append(TxIn(prev_tx, prev_index))\n",
    "# get the prev_tx and prev_index from the transaction in Exercise 4\n",
    "# 2つ目のインプットトランザクションを取得する。\n",
    "prev_tx2 = bytes.fromhex('0d6fe5213c0b3291f208cba8bfb59b7476dffacc4e5cb66f6eb20a080843a299')\n",
    "# トランザクションインデックスを取得する。\n",
    "prev_index2 = 1\n",
    "# 2つ目のインプットトランザクションを設定する。\n",
    "tx_in2 = TxIn(prev_tx2, prev_index2)\n",
    "# 送金額を設定する。\n",
    "target_amount2 = tx_in2.value(testnet=True)\n",
    "target_satoshi2 = int(target_amount2 * 100000000)\n",
    "# 配列に要素を追加する。\n",
    "tx_ins.append(TxIn(prev_tx2, prev_index2))\n",
    "# set the fee to some reasonable amount\n",
    "# 手数料を算出する。\n",
    "#stream = BytesIO(prev_tx)\n",
    "# パースする。\n",
    "#transaction2 = Tx.parse(stream)\n",
    "#fee = transaction2.fee() \n",
    "\n",
    "# アプトプットトランザクション用の配列を生成する。\n",
    "tx_outs = []\n",
    "# アウトプットトランザクションを生成する。\n",
    "target_h160 = decode_base58(my_address)\n",
    "# Script_pubkeyを生成する。\n",
    "target_script = p2pkh_script(target_h160)\n",
    "target_output = TxOut(amount=target_satoshi, script_pubkey=target_script)\n",
    "# 配列に追加する。\n",
    "tx_outs.append(change_output)\n",
    "#  トランザクションデータを生成する。\n",
    "tx_obj = Tx(1, tx_ins, tx_outs, 0, testnet=True)\n",
    "\n",
    "# 1つ目のインプットトランザクションに対して署名する。\n",
    "print(tx_obj.sign_input(0, priv))\n",
    "# 2つ目のインプットトランザクションに対して署名する。\n",
    "print(tx_obj.sign_input(1, priv2))\n",
    "# 16進数でトランザクションを出力する。\n",
    "print(tx_obj.serialize().hex())"
   ]
  },
  {
   "cell_type": "code",
   "execution_count": null,
   "metadata": {},
   "outputs": [],
   "source": []
  }
 ],
 "metadata": {
  "kernelspec": {
   "display_name": "Python 3",
   "language": "python",
   "name": "python3"
  },
  "language_info": {
   "codemirror_mode": {
    "name": "ipython",
    "version": 3
   },
   "file_extension": ".py",
   "mimetype": "text/x-python",
   "name": "python",
   "nbconvert_exporter": "python",
   "pygments_lexer": "ipython3",
   "version": "3.8.5"
  }
 },
 "nbformat": 4,
 "nbformat_minor": 2
}
