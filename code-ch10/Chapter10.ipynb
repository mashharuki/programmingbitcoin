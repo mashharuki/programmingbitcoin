{
 "cells": [
  {
   "cell_type": "code",
   "execution_count": 17,
   "metadata": {},
   "outputs": [],
   "source": [
    "# 必要なライブラリをインポートする。\n",
    "from importlib import reload\n",
    "from helper import run\n",
    "import network\n",
    "\n",
    "from block import GENESIS_BLOCK\n",
    "from helper import calculate_new_bits\n",
    "from network import (\n",
    "    NetworkEnvelope,\n",
    "    VersionMessage,\n",
    ")"
   ]
  },
  {
   "cell_type": "markdown",
   "metadata": {},
   "source": [
    "### 練習問題 1\n",
    "\n",
    "Determine what this network message is:\n",
    "\n",
    "`f9beb4d976657261636b000000000000000000005df6e0e2`"
   ]
  },
  {
   "cell_type": "code",
   "execution_count": 12,
   "metadata": {},
   "outputs": [
    {
     "name": "stdout",
     "output_type": "stream",
     "text": [
      "b'verack'\n",
      "b''\n"
     ]
    }
   ],
   "source": [
    "# 練習問題 1\n",
    "from io import BytesIO\n",
    "# ネットワークマジック\n",
    "message_hex = 'f9beb4d976657261636b000000000000000000005df6e0e2'\n",
    "# convert to binary\n",
    "stream = BytesIO(bytes.fromhex(message_hex))\n",
    "# see what the bytes 4 through 16 aregi\n",
    "command = NetworkEnvelope.parse(stream)\n",
    "print(command.command)\n",
    "print(command.payload)"
   ]
  },
  {
   "cell_type": "markdown",
   "metadata": {},
   "source": [
    "### 練習問題 2\n",
    "\n",
    "Write the `parse` method for `NetworkEnvelope`.\n",
    "\n",
    "#### Make [this test](/edit/code-ch10/network.py) pass: `network.py:NetworkEnvelopeTest:test_parse`"
   ]
  },
  {
   "cell_type": "code",
   "execution_count": 13,
   "metadata": {},
   "outputs": [
    {
     "name": "stderr",
     "output_type": "stream",
     "text": [
      ".\n",
      "----------------------------------------------------------------------\n",
      "Ran 1 test in 0.001s\n",
      "\n",
      "OK\n"
     ]
    }
   ],
   "source": [
    "# 練習問題 2\n",
    "\n",
    "reload(network)\n",
    "run(network.NetworkEnvelopeTest(\"test_parse\"))"
   ]
  },
  {
   "cell_type": "markdown",
   "metadata": {},
   "source": [
    "### 練習問題 3\n",
    "\n",
    "Write the `serialize` method for `NetworkEnvelope`.\n",
    "\n",
    "#### Make [this test](/edit/code-ch10/network.py) pass: `network.py:NetworkEnvelopeTest:test_serialize`"
   ]
  },
  {
   "cell_type": "code",
   "execution_count": 14,
   "metadata": {},
   "outputs": [
    {
     "name": "stderr",
     "output_type": "stream",
     "text": [
      ".\n",
      "----------------------------------------------------------------------\n",
      "Ran 1 test in 0.001s\n",
      "\n",
      "OK\n"
     ]
    }
   ],
   "source": [
    "# 練習問題 3\n",
    "\n",
    "reload(network)\n",
    "run(network.NetworkEnvelopeTest(\"test_serialize\"))"
   ]
  },
  {
   "cell_type": "markdown",
   "metadata": {},
   "source": [
    "### 練習問題 4\n",
    "\n",
    "Write the `serialize` method for `VersionMessage`.\n",
    "\n",
    "#### Make [this test](/edit/code-ch10/network.py) pass: `network.py:VersionMessageTest:test_serialize`"
   ]
  },
  {
   "cell_type": "code",
   "execution_count": 22,
   "metadata": {},
   "outputs": [
    {
     "name": "stderr",
     "output_type": "stream",
     "text": [
      ".\n",
      "----------------------------------------------------------------------\n",
      "Ran 1 test in 0.001s\n",
      "\n",
      "OK\n"
     ]
    }
   ],
   "source": [
    "# 練習問題 4\n",
    "\n",
    "reload(network)\n",
    "run(network.VersionMessageTest(\"test_serialize\"))"
   ]
  },
  {
   "cell_type": "markdown",
   "metadata": {},
   "source": [
    "### 練習問題 5\n",
    "\n",
    "Write the `handshake` method for `SimpleNode`\n",
    "\n",
    "#### Make [this test](/edit/code-ch10/network.py) pass: `network.py:SimpleNodeTest:test_handshake`"
   ]
  },
  {
   "cell_type": "code",
   "execution_count": 24,
   "metadata": {},
   "outputs": [
    {
     "name": "stderr",
     "output_type": "stream",
     "text": [
      ".\n",
      "----------------------------------------------------------------------\n",
      "Ran 1 test in 0.324s\n",
      "\n",
      "OK\n"
     ]
    }
   ],
   "source": [
    "# 練習問題 5\n",
    "\n",
    "reload(network)\n",
    "run(network.SimpleNodeTest(\"test_handshake\"))"
   ]
  },
  {
   "cell_type": "markdown",
   "metadata": {},
   "source": [
    "### 練習問題 6\n",
    "\n",
    "Write the `serialize` method for `GetHeadersMessage`.\n",
    "\n",
    "#### Make [this test](/edit/code-ch10/network.py) pass: `network.py:GetHeadersMessageTest:test_serialize`"
   ]
  },
  {
   "cell_type": "code",
   "execution_count": 25,
   "metadata": {},
   "outputs": [
    {
     "name": "stderr",
     "output_type": "stream",
     "text": [
      ".\n",
      "----------------------------------------------------------------------\n",
      "Ran 1 test in 0.001s\n",
      "\n",
      "OK\n"
     ]
    }
   ],
   "source": [
    "# 練習問題 6\n",
    "\n",
    "reload(network)\n",
    "run(network.GetHeadersMessageTest(\"test_serialize\"))"
   ]
  },
  {
   "cell_type": "code",
   "execution_count": 26,
   "metadata": {},
   "outputs": [
    {
     "name": "stdout",
     "output_type": "stream",
     "text": [
      "ffff001d\n",
      "ffff001d\n",
      "ffff001d\n",
      "ffff001d\n",
      "ffff001d\n",
      "ffff001d\n",
      "ffff001d\n",
      "ffff001d\n",
      "ffff001d\n",
      "ffff001d\n",
      "ffff001d\n",
      "ffff001d\n",
      "ffff001d\n",
      "ffff001d\n",
      "ffff001d\n",
      "6ad8001d\n",
      "28c4001d\n",
      "71be001d\n"
     ]
    }
   ],
   "source": [
    "# ハンドシェイクした後ブロックヘッダーを要求するソースコード\n",
    "from io import BytesIO\n",
    "from network import SimpleNode, GetHeadersMessage, HeadersMessage\n",
    "from block import Block, GENESIS_BLOCK, LOWEST_BITS\n",
    "from helper import calculate_new_bits\n",
    "# ジェネシスブロックのデータをパースする。\n",
    "previous = Block.parse(BytesIO(GENESIS_BLOCK))\n",
    "first_epoch_timestamp = previous.timestamp\n",
    "expected_bits = LOWEST_BITS\n",
    "count = 1\n",
    "# 対象ノード\n",
    "node = SimpleNode('mainnet.programmingbitcoin.com', testnet=False)\n",
    "# ハンドシェイクを確立させる。\n",
    "node.handshake()\n",
    "for _ in range(19):\n",
    "    # ブロックヘッダーの情報を取得する。\n",
    "    getheaders = GetHeadersMessage(start_block=previous.hash())\n",
    "    # ブロックヘッダーを送信する。\n",
    "    node.send(getheaders)\n",
    "    headers = node.wait_for(HeadersMessage)\n",
    "    for header in headers.blocks:\n",
    "        if not header.check_pow(): # PoWが有効であることをチェックする。\n",
    "            raise RuntimeError('bad PoW at block {}'.format(count))\n",
    "        if header.prev_block != previous.hash(): # 前のブロックの次であることをチェックする。\n",
    "            raise RuntimeError('discontinuous block at {}'.format(count))\n",
    "        if count % 2016 == 0:\n",
    "            # 2016ブロックごとにタイムスタンプの差分を計算する。\n",
    "            time_diff = previous.timestamp - first_epoch_timestamp\n",
    "            # 難易度を調整する。\n",
    "            expected_bits = calculate_new_bits(previous.bits, time_diff)\n",
    "            print(expected_bits.hex())\n",
    "            first_epoch_timestamp = header.timestamp\n",
    "        if header.bits != expected_bits:\n",
    "            raise RuntimeError('bad bits at block {}'.format(count))\n",
    "        previous = header\n",
    "        count += 1"
   ]
  },
  {
   "cell_type": "code",
   "execution_count": null,
   "metadata": {},
   "outputs": [],
   "source": []
  }
 ],
 "metadata": {
  "kernelspec": {
   "display_name": "Python 3",
   "language": "python",
   "name": "python3"
  },
  "language_info": {
   "codemirror_mode": {
    "name": "ipython",
    "version": 3
   },
   "file_extension": ".py",
   "mimetype": "text/x-python",
   "name": "python",
   "nbconvert_exporter": "python",
   "pygments_lexer": "ipython3",
   "version": "3.8.5"
  }
 },
 "nbformat": 4,
 "nbformat_minor": 2
}
